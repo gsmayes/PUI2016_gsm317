{
 "cells": [
  {
   "cell_type": "markdown",
   "metadata": {},
   "source": [
    "## Hypothesis:\n",
    "The age of citibike riders is normally distributed\n",
    "\n",
    "## Null Hypothesis\n",
    "The age of citibike riders is not normally distributed within a significance of 0.05."
   ]
  },
  {
   "cell_type": "code",
   "execution_count": 3,
   "metadata": {
    "collapsed": false
   },
   "outputs": [
    {
     "name": "stdout",
     "output_type": "stream",
     "text": [
      "Populating the interactive namespace from numpy and matplotlib\n"
     ]
    }
   ],
   "source": [
    "from __future__  import print_function, division\n",
    "import pylab as pl\n",
    "import pandas as pd\n",
    "import numpy as np\n",
    "import os\n",
    "import urllib2\n",
    "import zipfile\n",
    "import scipy.stats\n",
    "\n",
    "%pylab inline\n",
    "\n",
    "import json\n",
    "import csv\n",
    "import requests"
   ]
  },
  {
   "cell_type": "code",
   "execution_count": 4,
   "metadata": {
    "collapsed": true
   },
   "outputs": [],
   "source": [
    "def getCitiBikeCSV(datestring):    \n",
    "    download = \"https://s3.amazonaws.com/tripdata/\" + datestring + \"-citibike-tripdata.zip\"\n",
    "    if os.path.isfile(datestring + \"-citibike-tripdata.zip\"):\n",
    "        print(\"zip file already exists\")\n",
    "    else:\n",
    "        request = urllib2.urlopen (download)\n",
    "        output = open(datestring + \"-citibike-tripdata.zip\", \"w\")\n",
    "        output.write(request.read())\n",
    "        output.close()\n",
    "    if os.path.isfile(datestring + \"-citibike-tripdata.csv\"):\n",
    "        print (\"csv file already exists\")\n",
    "    else:\n",
    "        os.system(\"unzip \" + datestring + \"-citibike-tripdata.zip\")"
   ]
  },
  {
   "cell_type": "code",
   "execution_count": 5,
   "metadata": {
    "collapsed": true
   },
   "outputs": [],
   "source": [
    "#loop for multiple datestrings\n",
    "datestrings = ['201606', '201607', '201608']\n",
    "for datestring in datestrings:\n",
    "    getCitiBikeCSV(datestring)"
   ]
  },
  {
   "cell_type": "code",
   "execution_count": 6,
   "metadata": {
    "collapsed": false
   },
   "outputs": [
    {
     "data": {
      "text/html": [
       "<div>\n",
       "<table border=\"1\" class=\"dataframe\">\n",
       "  <thead>\n",
       "    <tr style=\"text-align: right;\">\n",
       "      <th></th>\n",
       "      <th>tripduration</th>\n",
       "      <th>starttime</th>\n",
       "      <th>stoptime</th>\n",
       "      <th>start station id</th>\n",
       "      <th>start station name</th>\n",
       "      <th>start station latitude</th>\n",
       "      <th>start station longitude</th>\n",
       "      <th>end station id</th>\n",
       "      <th>end station name</th>\n",
       "      <th>end station latitude</th>\n",
       "      <th>end station longitude</th>\n",
       "      <th>bikeid</th>\n",
       "      <th>usertype</th>\n",
       "      <th>birth year</th>\n",
       "      <th>gender</th>\n",
       "    </tr>\n",
       "  </thead>\n",
       "  <tbody>\n",
       "    <tr>\n",
       "      <th>0</th>\n",
       "      <td>288</td>\n",
       "      <td>8/1/2016 00:01:22</td>\n",
       "      <td>8/1/2016 00:06:11</td>\n",
       "      <td>302</td>\n",
       "      <td>Avenue D &amp; E 3 St</td>\n",
       "      <td>40.720828</td>\n",
       "      <td>-73.977932</td>\n",
       "      <td>428</td>\n",
       "      <td>E 3 St &amp; 1 Ave</td>\n",
       "      <td>40.724677</td>\n",
       "      <td>-73.987834</td>\n",
       "      <td>16920</td>\n",
       "      <td>Subscriber</td>\n",
       "      <td>1961.0</td>\n",
       "      <td>1</td>\n",
       "    </tr>\n",
       "    <tr>\n",
       "      <th>1</th>\n",
       "      <td>457</td>\n",
       "      <td>8/1/2016 00:01:43</td>\n",
       "      <td>8/1/2016 00:09:21</td>\n",
       "      <td>285</td>\n",
       "      <td>Broadway &amp; E 14 St</td>\n",
       "      <td>40.734546</td>\n",
       "      <td>-73.990741</td>\n",
       "      <td>432</td>\n",
       "      <td>E 7 St &amp; Avenue A</td>\n",
       "      <td>40.726218</td>\n",
       "      <td>-73.983799</td>\n",
       "      <td>20084</td>\n",
       "      <td>Subscriber</td>\n",
       "      <td>1989.0</td>\n",
       "      <td>2</td>\n",
       "    </tr>\n",
       "    <tr>\n",
       "      <th>2</th>\n",
       "      <td>278</td>\n",
       "      <td>8/1/2016 00:02:10</td>\n",
       "      <td>8/1/2016 00:06:49</td>\n",
       "      <td>539</td>\n",
       "      <td>Metropolitan Ave &amp; Bedford Ave</td>\n",
       "      <td>40.715348</td>\n",
       "      <td>-73.960241</td>\n",
       "      <td>3096</td>\n",
       "      <td>Union Ave &amp; N 12 St</td>\n",
       "      <td>40.719240</td>\n",
       "      <td>-73.952420</td>\n",
       "      <td>18380</td>\n",
       "      <td>Subscriber</td>\n",
       "      <td>1971.0</td>\n",
       "      <td>1</td>\n",
       "    </tr>\n",
       "    <tr>\n",
       "      <th>3</th>\n",
       "      <td>862</td>\n",
       "      <td>8/1/2016 00:02:13</td>\n",
       "      <td>8/1/2016 00:16:36</td>\n",
       "      <td>280</td>\n",
       "      <td>E 10 St &amp; 5 Ave</td>\n",
       "      <td>40.733320</td>\n",
       "      <td>-73.995101</td>\n",
       "      <td>280</td>\n",
       "      <td>E 10 St &amp; 5 Ave</td>\n",
       "      <td>40.733320</td>\n",
       "      <td>-73.995101</td>\n",
       "      <td>24101</td>\n",
       "      <td>Subscriber</td>\n",
       "      <td>1995.0</td>\n",
       "      <td>1</td>\n",
       "    </tr>\n",
       "    <tr>\n",
       "      <th>4</th>\n",
       "      <td>407</td>\n",
       "      <td>8/1/2016 00:02:21</td>\n",
       "      <td>8/1/2016 00:09:09</td>\n",
       "      <td>161</td>\n",
       "      <td>LaGuardia Pl &amp; W 3 St</td>\n",
       "      <td>40.729170</td>\n",
       "      <td>-73.998102</td>\n",
       "      <td>428</td>\n",
       "      <td>E 3 St &amp; 1 Ave</td>\n",
       "      <td>40.724677</td>\n",
       "      <td>-73.987834</td>\n",
       "      <td>18949</td>\n",
       "      <td>Subscriber</td>\n",
       "      <td>1993.0</td>\n",
       "      <td>1</td>\n",
       "    </tr>\n",
       "  </tbody>\n",
       "</table>\n",
       "</div>"
      ],
      "text/plain": [
       "   tripduration          starttime           stoptime  start station id  \\\n",
       "0           288  8/1/2016 00:01:22  8/1/2016 00:06:11               302   \n",
       "1           457  8/1/2016 00:01:43  8/1/2016 00:09:21               285   \n",
       "2           278  8/1/2016 00:02:10  8/1/2016 00:06:49               539   \n",
       "3           862  8/1/2016 00:02:13  8/1/2016 00:16:36               280   \n",
       "4           407  8/1/2016 00:02:21  8/1/2016 00:09:09               161   \n",
       "\n",
       "               start station name  start station latitude  \\\n",
       "0               Avenue D & E 3 St               40.720828   \n",
       "1              Broadway & E 14 St               40.734546   \n",
       "2  Metropolitan Ave & Bedford Ave               40.715348   \n",
       "3                 E 10 St & 5 Ave               40.733320   \n",
       "4           LaGuardia Pl & W 3 St               40.729170   \n",
       "\n",
       "   start station longitude  end station id     end station name  \\\n",
       "0               -73.977932             428       E 3 St & 1 Ave   \n",
       "1               -73.990741             432    E 7 St & Avenue A   \n",
       "2               -73.960241            3096  Union Ave & N 12 St   \n",
       "3               -73.995101             280      E 10 St & 5 Ave   \n",
       "4               -73.998102             428       E 3 St & 1 Ave   \n",
       "\n",
       "   end station latitude  end station longitude  bikeid    usertype  \\\n",
       "0             40.724677             -73.987834   16920  Subscriber   \n",
       "1             40.726218             -73.983799   20084  Subscriber   \n",
       "2             40.719240             -73.952420   18380  Subscriber   \n",
       "3             40.733320             -73.995101   24101  Subscriber   \n",
       "4             40.724677             -73.987834   18949  Subscriber   \n",
       "\n",
       "   birth year  gender  \n",
       "0      1961.0       1  \n",
       "1      1989.0       2  \n",
       "2      1971.0       1  \n",
       "3      1995.0       1  \n",
       "4      1993.0       1  "
      ]
     },
     "execution_count": 6,
     "metadata": {},
     "output_type": "execute_result"
    }
   ],
   "source": [
    "#loop for reading and combining csv files\n",
    "for datestring in datestrings:\n",
    "    df = pd.read_csv(datestring + \"-citibike-tripdata.csv\")\n",
    "df.head()"
   ]
  },
  {
   "cell_type": "code",
   "execution_count": 7,
   "metadata": {
    "collapsed": false
   },
   "outputs": [
    {
     "data": {
      "text/plain": [
       "1557663"
      ]
     },
     "execution_count": 7,
     "metadata": {},
     "output_type": "execute_result"
    }
   ],
   "source": [
    "len(df)"
   ]
  },
  {
   "cell_type": "code",
   "execution_count": 8,
   "metadata": {
    "collapsed": false
   },
   "outputs": [
    {
     "data": {
      "text/html": [
       "<div>\n",
       "<table border=\"1\" class=\"dataframe\">\n",
       "  <thead>\n",
       "    <tr style=\"text-align: right;\">\n",
       "      <th></th>\n",
       "      <th>tripduration</th>\n",
       "      <th>starttime</th>\n",
       "      <th>stoptime</th>\n",
       "      <th>start station id</th>\n",
       "      <th>start station name</th>\n",
       "      <th>start station latitude</th>\n",
       "      <th>start station longitude</th>\n",
       "      <th>end station id</th>\n",
       "      <th>end station name</th>\n",
       "      <th>end station latitude</th>\n",
       "      <th>end station longitude</th>\n",
       "      <th>bikeid</th>\n",
       "      <th>usertype</th>\n",
       "      <th>birth year</th>\n",
       "      <th>gender</th>\n",
       "      <th>date</th>\n",
       "    </tr>\n",
       "  </thead>\n",
       "  <tbody>\n",
       "    <tr>\n",
       "      <th>0</th>\n",
       "      <td>288</td>\n",
       "      <td>8/1/2016 00:01:22</td>\n",
       "      <td>8/1/2016 00:06:11</td>\n",
       "      <td>302</td>\n",
       "      <td>Avenue D &amp; E 3 St</td>\n",
       "      <td>40.720828</td>\n",
       "      <td>-73.977932</td>\n",
       "      <td>428</td>\n",
       "      <td>E 3 St &amp; 1 Ave</td>\n",
       "      <td>40.724677</td>\n",
       "      <td>-73.987834</td>\n",
       "      <td>16920</td>\n",
       "      <td>Subscriber</td>\n",
       "      <td>1961.0</td>\n",
       "      <td>1</td>\n",
       "      <td>2016-08-01 00:01:22</td>\n",
       "    </tr>\n",
       "    <tr>\n",
       "      <th>1</th>\n",
       "      <td>457</td>\n",
       "      <td>8/1/2016 00:01:43</td>\n",
       "      <td>8/1/2016 00:09:21</td>\n",
       "      <td>285</td>\n",
       "      <td>Broadway &amp; E 14 St</td>\n",
       "      <td>40.734546</td>\n",
       "      <td>-73.990741</td>\n",
       "      <td>432</td>\n",
       "      <td>E 7 St &amp; Avenue A</td>\n",
       "      <td>40.726218</td>\n",
       "      <td>-73.983799</td>\n",
       "      <td>20084</td>\n",
       "      <td>Subscriber</td>\n",
       "      <td>1989.0</td>\n",
       "      <td>2</td>\n",
       "      <td>2016-08-01 00:01:43</td>\n",
       "    </tr>\n",
       "    <tr>\n",
       "      <th>2</th>\n",
       "      <td>278</td>\n",
       "      <td>8/1/2016 00:02:10</td>\n",
       "      <td>8/1/2016 00:06:49</td>\n",
       "      <td>539</td>\n",
       "      <td>Metropolitan Ave &amp; Bedford Ave</td>\n",
       "      <td>40.715348</td>\n",
       "      <td>-73.960241</td>\n",
       "      <td>3096</td>\n",
       "      <td>Union Ave &amp; N 12 St</td>\n",
       "      <td>40.719240</td>\n",
       "      <td>-73.952420</td>\n",
       "      <td>18380</td>\n",
       "      <td>Subscriber</td>\n",
       "      <td>1971.0</td>\n",
       "      <td>1</td>\n",
       "      <td>2016-08-01 00:02:10</td>\n",
       "    </tr>\n",
       "    <tr>\n",
       "      <th>3</th>\n",
       "      <td>862</td>\n",
       "      <td>8/1/2016 00:02:13</td>\n",
       "      <td>8/1/2016 00:16:36</td>\n",
       "      <td>280</td>\n",
       "      <td>E 10 St &amp; 5 Ave</td>\n",
       "      <td>40.733320</td>\n",
       "      <td>-73.995101</td>\n",
       "      <td>280</td>\n",
       "      <td>E 10 St &amp; 5 Ave</td>\n",
       "      <td>40.733320</td>\n",
       "      <td>-73.995101</td>\n",
       "      <td>24101</td>\n",
       "      <td>Subscriber</td>\n",
       "      <td>1995.0</td>\n",
       "      <td>1</td>\n",
       "      <td>2016-08-01 00:02:13</td>\n",
       "    </tr>\n",
       "    <tr>\n",
       "      <th>4</th>\n",
       "      <td>407</td>\n",
       "      <td>8/1/2016 00:02:21</td>\n",
       "      <td>8/1/2016 00:09:09</td>\n",
       "      <td>161</td>\n",
       "      <td>LaGuardia Pl &amp; W 3 St</td>\n",
       "      <td>40.729170</td>\n",
       "      <td>-73.998102</td>\n",
       "      <td>428</td>\n",
       "      <td>E 3 St &amp; 1 Ave</td>\n",
       "      <td>40.724677</td>\n",
       "      <td>-73.987834</td>\n",
       "      <td>18949</td>\n",
       "      <td>Subscriber</td>\n",
       "      <td>1993.0</td>\n",
       "      <td>1</td>\n",
       "      <td>2016-08-01 00:02:21</td>\n",
       "    </tr>\n",
       "  </tbody>\n",
       "</table>\n",
       "</div>"
      ],
      "text/plain": [
       "   tripduration          starttime           stoptime  start station id  \\\n",
       "0           288  8/1/2016 00:01:22  8/1/2016 00:06:11               302   \n",
       "1           457  8/1/2016 00:01:43  8/1/2016 00:09:21               285   \n",
       "2           278  8/1/2016 00:02:10  8/1/2016 00:06:49               539   \n",
       "3           862  8/1/2016 00:02:13  8/1/2016 00:16:36               280   \n",
       "4           407  8/1/2016 00:02:21  8/1/2016 00:09:09               161   \n",
       "\n",
       "               start station name  start station latitude  \\\n",
       "0               Avenue D & E 3 St               40.720828   \n",
       "1              Broadway & E 14 St               40.734546   \n",
       "2  Metropolitan Ave & Bedford Ave               40.715348   \n",
       "3                 E 10 St & 5 Ave               40.733320   \n",
       "4           LaGuardia Pl & W 3 St               40.729170   \n",
       "\n",
       "   start station longitude  end station id     end station name  \\\n",
       "0               -73.977932             428       E 3 St & 1 Ave   \n",
       "1               -73.990741             432    E 7 St & Avenue A   \n",
       "2               -73.960241            3096  Union Ave & N 12 St   \n",
       "3               -73.995101             280      E 10 St & 5 Ave   \n",
       "4               -73.998102             428       E 3 St & 1 Ave   \n",
       "\n",
       "   end station latitude  end station longitude  bikeid    usertype  \\\n",
       "0             40.724677             -73.987834   16920  Subscriber   \n",
       "1             40.726218             -73.983799   20084  Subscriber   \n",
       "2             40.719240             -73.952420   18380  Subscriber   \n",
       "3             40.733320             -73.995101   24101  Subscriber   \n",
       "4             40.724677             -73.987834   18949  Subscriber   \n",
       "\n",
       "   birth year  gender                date  \n",
       "0      1961.0       1 2016-08-01 00:01:22  \n",
       "1      1989.0       2 2016-08-01 00:01:43  \n",
       "2      1971.0       1 2016-08-01 00:02:10  \n",
       "3      1995.0       1 2016-08-01 00:02:13  \n",
       "4      1993.0       1 2016-08-01 00:02:21  "
      ]
     },
     "execution_count": 8,
     "metadata": {},
     "output_type": "execute_result"
    }
   ],
   "source": [
    "# df is the dataframe where the content of the csv file is stored\n",
    "df['date'] = pd.to_datetime(df['starttime'])\n",
    "# note that with dataframes I can refer to variables as dictionary keys, \n",
    "# i.e. df['starttime'] or as attributes: df.starttime. \n",
    "df.head()"
   ]
  },
  {
   "cell_type": "code",
   "execution_count": 9,
   "metadata": {
    "collapsed": false
   },
   "outputs": [
    {
     "data": {
      "text/plain": [
       "Index([u'tripduration', u'starttime', u'stoptime', u'start station id',\n",
       "       u'start station name', u'start station latitude',\n",
       "       u'start station longitude', u'end station id', u'end station name',\n",
       "       u'end station latitude', u'end station longitude', u'bikeid',\n",
       "       u'usertype', u'birth year', u'gender', u'date'],\n",
       "      dtype='object')"
      ]
     },
     "execution_count": 9,
     "metadata": {},
     "output_type": "execute_result"
    }
   ],
   "source": [
    "df.columns"
   ]
  },
  {
   "cell_type": "code",
   "execution_count": 10,
   "metadata": {
    "collapsed": true
   },
   "outputs": [],
   "source": [
    "df['age'] = 2016 - df['birth year'][(df['usertype'] == 'Subscriber')]"
   ]
  },
  {
   "cell_type": "code",
   "execution_count": 11,
   "metadata": {
    "collapsed": false
   },
   "outputs": [
    {
     "data": {
      "text/html": [
       "<div>\n",
       "<table border=\"1\" class=\"dataframe\">\n",
       "  <thead>\n",
       "    <tr style=\"text-align: right;\">\n",
       "      <th></th>\n",
       "      <th>date</th>\n",
       "      <th>age</th>\n",
       "    </tr>\n",
       "  </thead>\n",
       "  <tbody>\n",
       "    <tr>\n",
       "      <th>0</th>\n",
       "      <td>2016-08-01 00:01:22</td>\n",
       "      <td>55.0</td>\n",
       "    </tr>\n",
       "    <tr>\n",
       "      <th>1</th>\n",
       "      <td>2016-08-01 00:01:43</td>\n",
       "      <td>27.0</td>\n",
       "    </tr>\n",
       "    <tr>\n",
       "      <th>2</th>\n",
       "      <td>2016-08-01 00:02:10</td>\n",
       "      <td>45.0</td>\n",
       "    </tr>\n",
       "    <tr>\n",
       "      <th>3</th>\n",
       "      <td>2016-08-01 00:02:13</td>\n",
       "      <td>21.0</td>\n",
       "    </tr>\n",
       "    <tr>\n",
       "      <th>4</th>\n",
       "      <td>2016-08-01 00:02:21</td>\n",
       "      <td>23.0</td>\n",
       "    </tr>\n",
       "  </tbody>\n",
       "</table>\n",
       "</div>"
      ],
      "text/plain": [
       "                 date   age\n",
       "0 2016-08-01 00:01:22  55.0\n",
       "1 2016-08-01 00:01:43  27.0\n",
       "2 2016-08-01 00:02:10  45.0\n",
       "3 2016-08-01 00:02:13  21.0\n",
       "4 2016-08-01 00:02:21  23.0"
      ]
     },
     "execution_count": 11,
     "metadata": {},
     "output_type": "execute_result"
    }
   ],
   "source": [
    "df.drop([u'tripduration', u'starttime', u'stoptime', u'start station id',\n",
    "       u'start station name', u'start station latitude',\n",
    "       u'start station longitude', u'end station id', u'end station name',\n",
    "       u'end station latitude', u'end station longitude', u'bikeid',\n",
    "       u'usertype', u'birth year', u'gender'], axis = 1, inplace = True)\n",
    "df.head()"
   ]
  },
  {
   "cell_type": "code",
   "execution_count": 12,
   "metadata": {
    "collapsed": false
   },
   "outputs": [
    {
     "name": "stderr",
     "output_type": "stream",
     "text": [
      "/opt/rh/anaconda/root/envs/PUI2016_Python2/lib/python2.7/site-packages/numpy/lib/function_base.py:3834: RuntimeWarning: Invalid value encountered in percentile\n",
      "  RuntimeWarning)\n"
     ]
    },
    {
     "data": {
      "text/html": [
       "<div>\n",
       "<table border=\"1\" class=\"dataframe\">\n",
       "  <thead>\n",
       "    <tr style=\"text-align: right;\">\n",
       "      <th></th>\n",
       "      <th>age</th>\n",
       "    </tr>\n",
       "  </thead>\n",
       "  <tbody>\n",
       "    <tr>\n",
       "      <th>count</th>\n",
       "      <td>1.331827e+06</td>\n",
       "    </tr>\n",
       "    <tr>\n",
       "      <th>mean</th>\n",
       "      <td>3.758412e+01</td>\n",
       "    </tr>\n",
       "    <tr>\n",
       "      <th>std</th>\n",
       "      <td>1.149224e+01</td>\n",
       "    </tr>\n",
       "    <tr>\n",
       "      <th>min</th>\n",
       "      <td>1.600000e+01</td>\n",
       "    </tr>\n",
       "    <tr>\n",
       "      <th>25%</th>\n",
       "      <td>NaN</td>\n",
       "    </tr>\n",
       "    <tr>\n",
       "      <th>50%</th>\n",
       "      <td>NaN</td>\n",
       "    </tr>\n",
       "    <tr>\n",
       "      <th>75%</th>\n",
       "      <td>NaN</td>\n",
       "    </tr>\n",
       "    <tr>\n",
       "      <th>max</th>\n",
       "      <td>1.310000e+02</td>\n",
       "    </tr>\n",
       "  </tbody>\n",
       "</table>\n",
       "</div>"
      ],
      "text/plain": [
       "                age\n",
       "count  1.331827e+06\n",
       "mean   3.758412e+01\n",
       "std    1.149224e+01\n",
       "min    1.600000e+01\n",
       "25%             NaN\n",
       "50%             NaN\n",
       "75%             NaN\n",
       "max    1.310000e+02"
      ]
     },
     "execution_count": 12,
     "metadata": {},
     "output_type": "execute_result"
    }
   ],
   "source": [
    "# dropping NaN values\n",
    "df['age'].dropna(inplace= True)\n",
    "df.describe()"
   ]
  },
  {
   "cell_type": "code",
   "execution_count": 13,
   "metadata": {
    "collapsed": false
   },
   "outputs": [
    {
     "data": {
      "text/plain": [
       "35.0"
      ]
     },
     "execution_count": 13,
     "metadata": {},
     "output_type": "execute_result"
    }
   ],
   "source": [
    "df['age'].median()"
   ]
  },
  {
   "cell_type": "code",
   "execution_count": 14,
   "metadata": {
    "collapsed": false
   },
   "outputs": [
    {
     "data": {
      "text/plain": [
       "<matplotlib.text.Text at 0x7f197638f990>"
      ]
     },
     "execution_count": 14,
     "metadata": {},
     "output_type": "execute_result"
    },
    {
     "data": {
      "image/png": "[encoded data removed]",
      "text/plain": [
       "<matplotlib.figure.Figure at 0x7f197548dc50>"
      ]
     },
     "metadata": {},
     "output_type": "display_data"
    }
   ],
   "source": [
    "pl.hist(df['age'], bins = 30)\n",
    "pl.ylabel('N')\n",
    "pl.xlabel('Age')"
   ]
  },
  {
   "cell_type": "code",
   "execution_count": 15,
   "metadata": {
    "collapsed": true
   },
   "outputs": [],
   "source": [
    "np.random.seed(100000)"
   ]
  },
  {
   "cell_type": "code",
   "execution_count": 16,
   "metadata": {
    "collapsed": false
   },
   "outputs": [
    {
     "data": {
      "text/plain": [
       "(array([  2.00000000e+00,   1.00000000e+00,   4.00000000e+00,\n",
       "          4.00000000e+00,   7.00000000e+00,   2.50000000e+01,\n",
       "          4.30000000e+01,   6.00000000e+01,   1.27000000e+02,\n",
       "          2.08000000e+02,   3.52000000e+02,   5.73000000e+02,\n",
       "          7.52000000e+02,   1.13900000e+03,   1.55900000e+03,\n",
       "          2.10600000e+03,   2.79600000e+03,   3.65500000e+03,\n",
       "          4.32200000e+03,   5.12300000e+03,   5.89500000e+03,\n",
       "          6.55500000e+03,   7.09600000e+03,   7.09900000e+03,\n",
       "          7.06400000e+03,   7.08600000e+03,   6.65500000e+03,\n",
       "          5.92100000e+03,   5.32900000e+03,   4.47900000e+03,\n",
       "          3.58100000e+03,   2.93600000e+03,   2.18100000e+03,\n",
       "          1.72600000e+03,   1.17000000e+03,   8.70000000e+02,\n",
       "          5.73000000e+02,   3.53000000e+02,   2.23000000e+02,\n",
       "          1.51000000e+02,   9.30000000e+01,   5.50000000e+01,\n",
       "          2.20000000e+01,   1.40000000e+01,   5.00000000e+00,\n",
       "          5.00000000e+00,   2.00000000e+00,   2.00000000e+00,\n",
       "          0.00000000e+00,   1.00000000e+00]),\n",
       " array([-12.82585862, -10.7315727 ,  -8.63728677,  -6.54300085,\n",
       "         -4.44871493,  -2.35442901,  -0.26014308,   1.83414284,\n",
       "          3.92842876,   6.02271468,   8.11700061,  10.21128653,\n",
       "         12.30557245,  14.39985837,  16.49414429,  18.58843022,\n",
       "         20.68271614,  22.77700206,  24.87128798,  26.96557391,\n",
       "         29.05985983,  31.15414575,  33.24843167,  35.3427176 ,\n",
       "         37.43700352,  39.53128944,  41.62557536,  43.71986128,\n",
       "         45.81414721,  47.90843313,  50.00271905,  52.09700497,\n",
       "         54.1912909 ,  56.28557682,  58.37986274,  60.47414866,\n",
       "         62.56843459,  64.66272051,  66.75700643,  68.85129235,\n",
       "         70.94557828,  73.0398642 ,  75.13415012,  77.22843604,\n",
       "         79.32272196,  81.41700789,  83.51129381,  85.60557973,\n",
       "         87.69986565,  89.79415158,  91.8884375 ]),\n",
       " <a list of 50 Patch objects>)"
      ]
     },
     "execution_count": 16,
     "metadata": {},
     "output_type": "execute_result"
    },
    {
     "data": {
      "image/png": "[encoded data removed]",
      "text/plain": [
       "<matplotlib.figure.Figure at 0x7f1976880710>"
      ]
     },
     "metadata": {},
     "output_type": "display_data"
    }
   ],
   "source": [
    "norm = {}\n",
    "norm['age'] = np.random.normal(37.58412, 11.49224, 100000)\n",
    "pl.hist(norm['age'], bins = 50)"
   ]
  },
  {
   "cell_type": "code",
   "execution_count": 17,
   "metadata": {
    "collapsed": false
   },
   "outputs": [
    {
     "data": {
      "text/plain": [
       "KstestResult(statistic=0.11791851372272799, pvalue=0.0)"
      ]
     },
     "execution_count": 17,
     "metadata": {},
     "output_type": "execute_result"
    }
   ],
   "source": [
    "scipy.stats.kstest(df['age'].values,'norm', args=(df.age.mean(), df.age.std()))"
   ]
  },
  {
   "cell_type": "markdown",
   "metadata": {},
   "source": [
    "### Since p-value < 0.05, we can reject the null hypothesis that the age of citibike riders is not normally distributed."
   ]
  },
  {
   "cell_type": "code",
   "execution_count": 25,
   "metadata": {
    "collapsed": false
   },
   "outputs": [
    {
     "data": {
      "text/plain": [
       "KstestResult(statistic=0.19084127535538503, pvalue=0.0)"
      ]
     },
     "execution_count": 25,
     "metadata": {},
     "output_type": "execute_result"
    }
   ],
   "source": [
    "scipy.stats.kstest(df['age'].values,'logistic', args=(df.age.mean(), df.age.std()))"
   ]
  },
  {
   "cell_type": "markdown",
   "metadata": {},
   "source": [
    "### Since p-value < 0.05, we can reject the null hypothesis that the age of citibike riders is not logistically distributed."
   ]
  },
  {
   "cell_type": "code",
   "execution_count": 18,
   "metadata": {
    "collapsed": false
   },
   "outputs": [
    {
     "data": {
      "text/plain": [
       "AndersonResult(statistic=25743.694271833403, critical_values=array([ 0.576,  0.656,  0.787,  0.918,  1.092]), significance_level=array([ 15. ,  10. ,   5. ,   2.5,   1. ]))"
      ]
     },
     "execution_count": 18,
     "metadata": {},
     "output_type": "execute_result"
    }
   ],
   "source": [
    "scipy.stats.anderson(df['age'].values, 'norm')"
   ]
  },
  {
   "cell_type": "markdown",
   "metadata": {},
   "source": [
    "### The critical value corresponding to a significance of 5% is 0.787. Since 25743.7 > 0.787, we can reject the null hypothesis that the age of citibike riders is not normally distributed."
   ]
  },
  {
   "cell_type": "code",
   "execution_count": 24,
   "metadata": {
    "collapsed": false
   },
   "outputs": [
    {
     "data": {
      "text/plain": [
       "AndersonResult(statistic=22512.234623335069, critical_values=array([ 0.426,  0.563,  0.66 ,  0.769,  0.906,  1.01 ]), significance_level=array([ 25. ,  10. ,   5. ,   2.5,   1. ,   0.5]))"
      ]
     },
     "execution_count": 24,
     "metadata": {},
     "output_type": "execute_result"
    }
   ],
   "source": [
    "scipy.stats.anderson(df['age'].values, 'logistic')"
   ]
  },
  {
   "cell_type": "markdown",
   "metadata": {
    "collapsed": true
   },
   "source": [
    "### The critical value corresponding to a significance of 5% is 0.769. Since 22512.2 > 0.769, we can reject the null hypothesis that the age of citibike riders is not logistically distributed."
   ]
  },
  {
   "cell_type": "code",
   "execution_count": null,
   "metadata": {
    "collapsed": true
   },
   "outputs": [],
   "source": []
  }
 ],
 "metadata": {
  "kernelspec": {
   "display_name": "PUI2016_Python2",
   "language": "python",
   "name": "pui2016_python2"
  },
  "language_info": {
   "codemirror_mode": {
    "name": "ipython",
    "version": 2
   },
   "file_extension": ".py",
   "mimetype": "text/x-python",
   "name": "python",
   "nbconvert_exporter": "python",
   "pygments_lexer": "ipython2",
   "version": "2.7.12"
  }
 },
 "nbformat": 4,
 "nbformat_minor": 0
}
